{
 "cells": [
  {
   "cell_type": "code",
   "execution_count": 2,
   "id": "d03891f9",
   "metadata": {},
   "outputs": [],
   "source": [
    "import numpy as np"
   ]
  },
  {
   "cell_type": "code",
   "execution_count": 3,
   "id": "aeee545f",
   "metadata": {},
   "outputs": [
    {
     "data": {
      "text/plain": [
       "array([[0, 3],\n",
       "       [1, 4],\n",
       "       [2, 5]])"
      ]
     },
     "execution_count": 3,
     "metadata": {},
     "output_type": "execute_result"
    }
   ],
   "source": [
    "#Diziyi np.array'e çevirmek\n",
    "dizi = list[1,2,3,4]\n",
    "dizi = np.array(dizi)\n",
    "\n",
    "#MATRIS oluşturmak\n",
    "dizi = np.array([[0,1,2],[3,4,5]])\n",
    "dizi\n",
    "\n",
    "#MATRIS TRANSPOZU\n",
    "dizi.T # -> .T ile alınır"
   ]
  },
  {
   "cell_type": "code",
   "execution_count": 4,
   "id": "f392a3bb",
   "metadata": {},
   "outputs": [],
   "source": [
    "#0 - 1 ARASI RASTGELE MATRIS OLUŞTURMAK\n",
    "dizi = np.random.rand(2,3) #2'e 3'lük 0-1 arası değerlerle rastgele matris\n",
    "\n",
    "#RASTGELE INTEGER'LAR ILE ARRAY OLUŞTURMAK\n",
    "dizi = np.random.randint(1,100,5) #1'le yüz arasında 5 tane tam sayı\n",
    "\n",
    "#RASTGELE FLOAT'LAR ILE ARRAY OLUŞTURMAK\n",
    "dizi = np.random.uniform(1,100,5) #1'le yüz arasında 5 tane kesirli sayı\n",
    "\n",
    "#RASTGELE INTEGER'LAR ILE MATRIS OLUŞTURMAK\n",
    "dizi = np.random.randint(1,100, size=(3,3)) # 1 - 100 arası 3'e 3 matris\n",
    "\n",
    "#RASTGELE FLOAT'LAR ILE MATRIS OLUŞTURMAK\n",
    "dizi = np.random.uniform(1,100, size=(3,3)) # 1 - 100 arası 3'e 3 kesirli sayı matris\n"
   ]
  },
  {
   "cell_type": "code",
   "execution_count": 5,
   "id": "09bec943",
   "metadata": {},
   "outputs": [
    {
     "data": {
      "text/plain": [
       "array([[0., 0., 0.],\n",
       "       [0., 0., 0.]])"
      ]
     },
     "execution_count": 5,
     "metadata": {},
     "output_type": "execute_result"
    }
   ],
   "source": [
    "#Sıfır Dizisi\n",
    "sifirlar = np.zeros((2,3))\n",
    "sifirlar"
   ]
  },
  {
   "cell_type": "code",
   "execution_count": 6,
   "id": "3211ab95",
   "metadata": {},
   "outputs": [
    {
     "data": {
      "text/plain": [
       "array([[1., 1., 1., 1.],\n",
       "       [1., 1., 1., 1.],\n",
       "       [1., 1., 1., 1.],\n",
       "       [1., 1., 1., 1.]])"
      ]
     },
     "execution_count": 6,
     "metadata": {},
     "output_type": "execute_result"
    }
   ],
   "source": [
    "#Bir Dizisi\n",
    "birler = np.ones((4,4))\n",
    "birler"
   ]
  },
  {
   "cell_type": "code",
   "execution_count": 7,
   "id": "229856a3",
   "metadata": {},
   "outputs": [
    {
     "data": {
      "text/plain": [
       "array([0, 2, 4, 6, 8])"
      ]
     },
     "execution_count": 7,
     "metadata": {},
     "output_type": "execute_result"
    }
   ],
   "source": [
    "#np.arange(start, stop, step) – Belirli aralıkla sayılar\n",
    "dizi = np.arange(0,10,2) # 0'dan 10'a kadar 2'şer artan\n",
    "dizi"
   ]
  },
  {
   "cell_type": "code",
   "execution_count": 8,
   "id": "c9e778be",
   "metadata": {},
   "outputs": [
    {
     "data": {
      "text/plain": [
       "array([0.  , 0.25, 0.5 , 0.75, 1.  ])"
      ]
     },
     "execution_count": 8,
     "metadata": {},
     "output_type": "execute_result"
    }
   ],
   "source": [
    "#np.linspace(start, stop, n) – Belirli aralıkta eşit bölünmüş n sayı\n",
    "dizi = np.linspace(0,1,5) #Sıfırla bir arasını 5'e böl\n",
    "dizi"
   ]
  },
  {
   "cell_type": "code",
   "execution_count": 9,
   "id": "150e9098",
   "metadata": {},
   "outputs": [],
   "source": [
    "dizi = np.array([[[1,2,3], [4,5,6]], [[7,8,9], [10,11,12]]]) #3 boyutlu matris\n",
    "dizi.shape # -> Dizinin şeklini yazdırır\n",
    "dizi.ndim # -> Dizinin kaç boyutlu olduğunu gösterir\n",
    "dizi.dtype # -> Dizi elemanlarının türünü gösterir\n",
    "dizi = np.array([[1,2,3], [4,5,6]], dtype='float32') # -> Şeklinde önceden type belirlenebilir"
   ]
  },
  {
   "cell_type": "code",
   "execution_count": 10,
   "id": "68a2fa26",
   "metadata": {},
   "outputs": [
    {
     "data": {
      "text/plain": [
       "array([[2, 3],\n",
       "       [5, 6]])"
      ]
     },
     "execution_count": 10,
     "metadata": {},
     "output_type": "execute_result"
    }
   ],
   "source": [
    "###INDEKSLEME VE SLICING - SATIR VE SUTUN ERİŞİMİ###\n",
    "#Tek boyutlu arraylerde\n",
    "\n",
    "tekBoyut = np.array([1,2,3,4,5,6])\n",
    "tekBoyut[0]\n",
    "tekBoyut[-1]\n",
    "tekBoyut[1]\n",
    "tekBoyut[::2]\n",
    "tekBoyut[1:4:2]\n",
    "\n",
    "#Iki boyutlu matrislerde\n",
    "\n",
    "ikiBoyut = np.array([[1,2,3], [4,5,6], [7,8,9], [10,11,12]])\n",
    "ikiBoyut[1][2] # -> 1.satır 2.sutun\n",
    "ikiBoyut[1,2] # -> 1.satır 2.sütun alternatifi\n",
    "ikiBoyut[0] # -> 0.satırın hepsi\n",
    "ikiBoyut[:, 2] # -> Tüm satırlardan 2.sütun\n",
    "ikiBoyut[2, :] # -> 2.satırın tüm sütunları\n",
    "ikiBoyut[0:2, 1:3] # -> 0.satırdan 2.satıra kadar (2 dahil değil), \n"
   ]
  },
  {
   "cell_type": "code",
   "execution_count": 11,
   "id": "42b30f8b",
   "metadata": {},
   "outputs": [
    {
     "data": {
      "text/plain": [
       "np.float64(6.5)"
      ]
     },
     "execution_count": 11,
     "metadata": {},
     "output_type": "execute_result"
    }
   ],
   "source": [
    "ikiBoyut + 2 # -> Her elemana 4 işlem yapma. Sadece yazdırır arrayi DEĞİŞTİRMEZ\n",
    "ikiBoyut ** 2 # -> Her elemanın üssünü alma. Sadece yazdırır arrayi DEĞİŞTİRMEZ\n",
    "\n",
    "np.sum(ikiBoyut) # -> Elemenlar toplamı\n",
    "np.std(ikiBoyut) # -> Standart sapma\n",
    "np.mean(ikiBoyut) # -> Ortalaması\n",
    "np.max(ikiBoyut)\n",
    "np.min(ikiBoyut)\n",
    "np.median(ikiBoyut)"
   ]
  },
  {
   "cell_type": "code",
   "execution_count": 12,
   "id": "8e589df1",
   "metadata": {},
   "outputs": [
    {
     "data": {
      "text/plain": [
       "array([[ 38,  44,  50,  56],\n",
       "       [ 83,  98, 113, 128],\n",
       "       [128, 152, 176, 200],\n",
       "       [173, 206, 239, 272]])"
      ]
     },
     "execution_count": 12,
     "metadata": {},
     "output_type": "execute_result"
    }
   ],
   "source": [
    "### MATRIS ÇARPIMI ###\n",
    "## MATRIS ÇARPINDA EŞLEŞME ilk matris (m,n) ise ikinci matris (n,p) şeklinde olmalı. 1.'nin sütunu ile 2.'nin satır sayısı aynı olmalı\n",
    "\n",
    "ikinciIkiBoyut = np.array([[1, 2, 3], [4, 5, 6], [7, 8, 9], [10, 11, 12]])\n",
    "ikiBoyut = np.array([[1, 2, 3, 4], [5, 6, 7, 8], [9, 10, 11, 12]])\n",
    "np.dot(ikinciIkiBoyut, ikiBoyut)"
   ]
  },
  {
   "cell_type": "code",
   "execution_count": 13,
   "id": "e1a6e157",
   "metadata": {},
   "outputs": [
    {
     "data": {
      "text/plain": [
       "array([[ 9, 12],\n",
       "       [24, 33]])"
      ]
     },
     "execution_count": 13,
     "metadata": {},
     "output_type": "execute_result"
    }
   ],
   "source": [
    "dz1 = np.array([[1,2],[4,5]]) # -> (2,2) matris çarpımı örneği\n",
    "dz2 = np.array([[1,2],[4,5]])\n",
    "np.dot(dz1, dz2)"
   ]
  },
  {
   "cell_type": "code",
   "execution_count": 14,
   "id": "9aa81fea",
   "metadata": {},
   "outputs": [
    {
     "data": {
      "text/plain": [
       "array([[2, 4, 6],\n",
       "       [5, 7, 9]])"
      ]
     },
     "execution_count": 14,
     "metadata": {},
     "output_type": "execute_result"
    }
   ],
   "source": [
    "### Broadcasting\n",
    "# Farklı boyutlardaki diziler üzerinde işlem yapar\n",
    "array1 = np.array([1,2,3])\n",
    "array2 = np.array([[1,2,3], [4,5,6]])\n",
    "\n",
    "array1 + array2  # -> Array2'nin her boyutundaki dizileri Array1 dizisi ile toplar"
   ]
  },
  {
   "cell_type": "code",
   "execution_count": 15,
   "id": "54d5f600",
   "metadata": {},
   "outputs": [
    {
     "data": {
      "text/plain": [
       "[array([1, 2, 3]), array([4, 5, 6]), array([7, 8, 9])]"
      ]
     },
     "execution_count": 15,
     "metadata": {},
     "output_type": "execute_result"
    }
   ],
   "source": [
    "### Dizi Birleştirme ve Bölme\n",
    "\n",
    "# Birleştirme (Concatenate)\n",
    "a = np.array([[1,2], [3,4]])\n",
    "b = np.array([[5,6], [7,8]])\n",
    "\n",
    "np.hstack((a,b)) # -> Çıktısı tek bir array. Genellikle 1D veya 2D'de kullanılır. Kullanımı daha basittir. Çıktısı [1, 2, 3, 4, 5, 6, 7, 8]\n",
    "np.concatenate((a,b), axis=1) # -> Aynı şekilde birleştirir. Fakat axis parametresi alabilir. Bu sayede dikey veya yatay birleştirme yapılabilir\n",
    "\n",
    "# Bölme (Split)\n",
    "splitArray = np.array([1,2,3,4,5,6,7,8,9])\n",
    "np.split(splitArray, 3) # -> Diziyi n parçaya böler. Bu örnekte 3 parça\n"
   ]
  },
  {
   "cell_type": "code",
   "execution_count": null,
   "id": "f1dc697e",
   "metadata": {},
   "outputs": [
    {
     "data": {
      "text/plain": [
       "array([ 1,  8, 27, 64])"
      ]
     },
     "execution_count": 18,
     "metadata": {},
     "output_type": "execute_result"
    }
   ],
   "source": [
    "### FONKSIYONEL PROGRAMLAMA ###      ### EN ÖNEMLİLERDEN ###\n",
    "# Dizinin her elemanına belirlenen fonksiyonu uygular #\n",
    "\n",
    "def cube(x):\n",
    "    return x ** 3\n",
    "\n",
    "arr = np.array([1,2,3,4])\n",
    "\n",
    "cubedArr = np.vectorize(cube)\n",
    "cubedArr(arr)\n"
   ]
  },
  {
   "cell_type": "code",
   "execution_count": null,
   "id": "6ef1bd9c",
   "metadata": {},
   "outputs": [
    {
     "data": {
      "text/plain": [
       "array([False,  True,  True, False])"
      ]
     },
     "execution_count": 21,
     "metadata": {},
     "output_type": "execute_result"
    }
   ],
   "source": [
    "### LOGICAL OPERATIONS ###\n",
    "# True False dizisi döndürür. Her eleman için karşılaştırma yapar #\n",
    "# Diziler AYNI BOYUTLARDA ve AYNI ELEMAN SAYILARINA sahip olmalıdır #\n",
    "\n",
    "a = np.array([1, 5, 11, 9])\n",
    "b = np.array([2, 3, 8, 9])\n",
    "\n",
    "a > b"
   ]
  },
  {
   "cell_type": "code",
   "execution_count": null,
   "id": "dda2713b",
   "metadata": {},
   "outputs": [],
   "source": []
  }
 ],
 "metadata": {
  "kernelspec": {
   "display_name": "Python 3",
   "language": "python",
   "name": "python3"
  },
  "language_info": {
   "codemirror_mode": {
    "name": "ipython",
    "version": 3
   },
   "file_extension": ".py",
   "mimetype": "text/x-python",
   "name": "python",
   "nbconvert_exporter": "python",
   "pygments_lexer": "ipython3",
   "version": "3.13.5"
  }
 },
 "nbformat": 4,
 "nbformat_minor": 5
}
